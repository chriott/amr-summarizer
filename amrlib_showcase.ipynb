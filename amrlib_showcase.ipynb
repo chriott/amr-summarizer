{
 "cells": [
  {
   "cell_type": "markdown",
   "id": "f520abca",
   "metadata": {},
   "source": [
    "### How to run:\n",
    "\n",
    "1. Download model_parse_spring-v0_1_0 and model_generate_t5-v0_1_0 from https://amrlib.readthedocs.io/en/latest/install/\n",
    "2. Extract \n",
    "    - generator model files into ./anaconda3/python3.8/site-packages/amrlib/data/model_gtos/ (default for amrlib)\n",
    "    - parser model files into ./anaconda3/python3.8/site-packages/amrlib/data/model_stog/ (default for amrlib)\n"
   ]
  },
  {
   "cell_type": "markdown",
   "id": "0a019ea6",
   "metadata": {},
   "source": [
    "# 1. Text-to-AMR Parsing"
   ]
  },
  {
   "cell_type": "code",
   "execution_count": 2,
   "id": "af44469b",
   "metadata": {},
   "outputs": [],
   "source": [
    "import amrlib\n",
    "\n",
    "#p = '/Users/chris/Code/model_parse_spring-v0_1_0'\n",
    "#g = '/Users/chris/Code/model_generate_t5-v0_1_0'"
   ]
  },
  {
   "cell_type": "code",
   "execution_count": 7,
   "id": "5a813916",
   "metadata": {},
   "outputs": [
    {
     "name": "stdout",
     "output_type": "stream",
     "text": [
      "# ::snt the man sing a song\n",
      "(z0 / sing-01\n",
      "      :ARG0 (z1 / man)\n",
      "      :ARG1 (z2 / song))\n"
     ]
    }
   ],
   "source": [
    "### Parsing\n",
    "\n",
    "stog = amrlib.load_stog_model(model_dir=None)\n",
    "#graphs = stog.parse_sents(['some 200,000 visitors were expected at the second cebit home , 10,000 less than two years ago .'])\n",
    "graphs = stog.parse_sents(['the man sing a song'], add_metadata = True) #metadata can be switched on and off\n",
    "\n",
    "for graph in graphs:\n",
    "    print(graph)"
   ]
  },
  {
   "cell_type": "code",
   "execution_count": 8,
   "id": "ca2eb855",
   "metadata": {},
   "outputs": [],
   "source": [
    "graphs2 = stog.parse_sents(['The president spoke in March. He wanted to address the state.'], add_metadata = False)"
   ]
  },
  {
   "cell_type": "code",
   "execution_count": 10,
   "id": "b5339a0c",
   "metadata": {},
   "outputs": [
    {
     "name": "stdout",
     "output_type": "stream",
     "text": [
      "# ::snt the man sing a song\n",
      "(z0 / sing-01\n",
      "      :ARG0 (z1 / man)\n",
      "      :ARG1 (z2 / song))\n",
      "-------------------------------\n",
      "(z0 / multi-sentence\n",
      "      :snt1 (z1 / speak-01\n",
      "            :ARG0 (z2 / person\n",
      "                  :ARG0-of (z3 / have-org-role-91\n",
      "                        :ARG2 (z4 / president)))\n",
      "            :time (z5 / date-entity\n",
      "                  :month 3))\n",
      "      :snt2 (z6 / want-01\n",
      "            :ARG0 (z7 / he)\n",
      "            :ARG1 (z8 / address-03\n",
      "                  :ARG0 z7\n",
      "                  :ARG1 (z9 / state))))\n"
     ]
    }
   ],
   "source": [
    "\n",
    "for graph in graphs:\n",
    "    print(graph)\n",
    "\n",
    "print('-------------------------------')\n",
    "\n",
    "    \n",
    "for graph in graphs2:\n",
    "    print(graph)"
   ]
  },
  {
   "cell_type": "code",
   "execution_count": 11,
   "id": "f44feae9",
   "metadata": {
    "scrolled": true
   },
   "outputs": [
    {
     "name": "stdout",
     "output_type": "stream",
     "text": [
      "<class 'str'>\n",
      "(z0 / multi-sentence\n",
      "      :snt1 (z1 / speak-01\n",
      "            :ARG0 (z2 / person\n",
      "                  :ARG0-of (z3 / have-org-role-91\n",
      "                        :ARG2 (z4 / president)))\n",
      "            :time (z5 / date-entity\n",
      "                  :month 3))\n",
      "      :snt2 (z6 / want-01\n",
      "            :ARG0 (z7 / he)\n",
      "            :ARG1 (z8 / address-03\n",
      "                  :ARG0 z7\n",
      "                  :ARG1 (z9 / state))))\n"
     ]
    }
   ],
   "source": [
    "print(type(graph))\n",
    "print((graph))"
   ]
  },
  {
   "cell_type": "markdown",
   "id": "ba39de83",
   "metadata": {},
   "source": [
    "# 2. Generating"
   ]
  },
  {
   "cell_type": "code",
   "execution_count": 4,
   "id": "27cfb82e",
   "metadata": {},
   "outputs": [],
   "source": [
    "#Load generator model \n",
    "gtos = amrlib.load_gtos_model() #load from default folder; see how to run\n",
    "\n"
   ]
  },
  {
   "cell_type": "code",
   "execution_count": 43,
   "id": "77494293",
   "metadata": {},
   "outputs": [],
   "source": [
    "### Input for Generator seems to be graphs without meta data; either in string or penman object format\n"
   ]
  },
  {
   "cell_type": "code",
   "execution_count": 12,
   "id": "405e1938",
   "metadata": {
    "scrolled": true
   },
   "outputs": [
    {
     "name": "stderr",
     "output_type": "stream",
     "text": [
      "100%|██████████████████████████████████████████████████████████████████████████████████████████████████████████████████████████████████████████████████| 1/1 [00:02<00:00,  2.66s/it]"
     ]
    },
    {
     "name": "stdout",
     "output_type": "stream",
     "text": [
      "The President spoke in March. He wanted to address the state.\n",
      "graph number 0\n",
      "The President spoke in March. He wanted to address the state.\n"
     ]
    },
    {
     "name": "stderr",
     "output_type": "stream",
     "text": [
      "\n"
     ]
    }
   ],
   "source": [
    "sents, _ = gtos.generate(graphs2, disable_progress=False)\n",
    "for sent in sents:\n",
    "    print(sent)\n",
    "\n",
    "for gnum in range(len(graphs2)):\n",
    "    print('graph number', gnum)\n",
    "    for sent in gtos.get_ans_group(sents, gnum):\n",
    "        print(sent)"
   ]
  },
  {
   "cell_type": "markdown",
   "id": "e0171fcb",
   "metadata": {},
   "source": [
    "# Useful amrlib functionalities"
   ]
  },
  {
   "cell_type": "code",
   "execution_count": 51,
   "id": "9a94f20c",
   "metadata": {},
   "outputs": [
    {
     "name": "stdout",
     "output_type": "stream",
     "text": [
      "# ::snt This is a test of the SpaCy extension.\n",
      "(z0 / test-01\n",
      "      :ARG0 (z1 / this)\n",
      "      :ARG1 (z2 / extend-01\n",
      "            :ARG1 (z3 / program\n",
      "                  :name (z4 / name\n",
      "                        :op1 \"SpaCy\"))))\n",
      "# ::snt The test has multiple sentences.\n",
      "(z0 / have-03\n",
      "      :ARG0 (z1 / test)\n",
      "      :ARG1 (z2 / sentence\n",
      "            :quant (z3 / multiple)))\n"
     ]
    }
   ],
   "source": [
    "#Automatically parse multiple sentences into separate AMRs using spacy\n",
    "\n",
    "import amrlib\n",
    "import spacy\n",
    "amrlib.setup_spacy_extension()\n",
    "nlp = spacy.load('en_core_web_sm')\n",
    "doc = nlp('This is a test of the SpaCy extension. The test has multiple sentences.')\n",
    "graphs = doc._.to_amr()\n",
    "for graph in graphs:\n",
    "    print(graph)"
   ]
  },
  {
   "cell_type": "code",
   "execution_count": 70,
   "id": "d3456a63",
   "metadata": {},
   "outputs": [
    {
     "name": "stdout",
     "output_type": "stream",
     "text": [
      "Instance(source='z0', role=':instance', target='multi-sentence')\n",
      "Instance(source='z1', role=':instance', target='speak-01')\n",
      "Instance(source='z2', role=':instance', target='person')\n",
      "Instance(source='z3', role=':instance', target='have-org-role-91')\n",
      "Instance(source='z4', role=':instance', target='president')\n",
      "Instance(source='z5', role=':instance', target='date-entity')\n",
      "Instance(source='z6', role=':instance', target='want-01')\n",
      "Instance(source='z7', role=':instance', target='he')\n",
      "Instance(source='z8', role=':instance', target='address-03')\n",
      "Instance(source='z9', role=':instance', target='state')\n",
      "Edge(source='z0', role=':snt1', target='z1')\n",
      "Edge(source='z1', role=':ARG0', target='z2')\n",
      "Edge(source='z2', role=':ARG0-of', target='z3')\n",
      "Edge(source='z3', role=':ARG2', target='z4')\n",
      "Edge(source='z1', role=':time', target='z5')\n",
      "Edge(source='z0', role=':snt2', target='z6')\n",
      "Edge(source='z6', role=':ARG0', target='z7')\n",
      "Edge(source='z6', role=':ARG1', target='z8')\n",
      "Edge(source='z8', role=':ARG0', target='z7')\n",
      "Edge(source='z8', role=':ARG1', target='z9')\n",
      "Attribute(source='z5', role=':month', target='3')\n"
     ]
    }
   ],
   "source": [
    "### Visualizing\n",
    "\n",
    "### Only runs withouth metadata in heading\n",
    "### Step 1: install graphviz package\n",
    "### Step 2: \n",
    "\n",
    "from   amrlib.graph_processing.amr_plot import AMRPlot\n",
    "from   amrlib.graph_processing.amr_loading import load_amr_entries\n",
    "\n",
    "input_file = '/Users/chris/opt/anaconda3/lib/python3.8/site-packages/amrlib/data/amr-bank-struct-v3.0.txt'\n",
    "# Load the AMR file\n",
    "\n",
    "entries = load_amr_entries(input_file)\n",
    "entry = entries[12]    # pick an index\n",
    "        \n",
    "# Plot\n",
    "plot = AMRPlot()\n",
    "plot.build_from_graph(graphs2, debug=True)\n",
    "plot.view()"
   ]
  },
  {
   "cell_type": "code",
   "execution_count": 1,
   "id": "1e06847b",
   "metadata": {},
   "outputs": [],
   "source": [
    "### Additional notes\n",
    "### Base-baseline idea:\n",
    "\n",
    "### 1. Take a multiple sentences. Select random sentences. Generate multi-sentence AMR\n",
    "### -> basically everything available\n",
    "\n",
    "### 2. Merge AMRs and then generate them\n",
    "### -> use penman format so we can manipulate them? find concepts that exist in every AMR\n",
    "### -> use token (from each zX-nodes) to create a new multi-sentence summary graph (second parse)\n",
    "### -> generate source-amr to text\n",
    "\n",
    "### Optional: try out coref github for amrlib: https://github.com/bjascob/amr_coref/tree/master/amr_coref/coref"
   ]
  }
 ],
 "metadata": {
  "kernelspec": {
   "display_name": "Python 3 (ipykernel)",
   "language": "python",
   "name": "python3"
  },
  "language_info": {
   "codemirror_mode": {
    "name": "ipython",
    "version": 3
   },
   "file_extension": ".py",
   "mimetype": "text/x-python",
   "name": "python",
   "nbconvert_exporter": "python",
   "pygments_lexer": "ipython3",
   "version": "3.8.5"
  }
 },
 "nbformat": 4,
 "nbformat_minor": 5
}
